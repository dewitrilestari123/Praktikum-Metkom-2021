{
 "cells": [
  {
   "cell_type": "code",
   "execution_count": 1,
   "id": "d9e6526e-86f3-4e4e-b374-a1d443af99ee",
   "metadata": {},
   "outputs": [],
   "source": [
    "#/================================/\n",
    "#/                                /\n",
    "#/         Program halo.py        /\n",
    "#/   by dewi.t.l@mail.ugm.ac.id   /\n",
    "#/                                /\n",
    "#/================================/"
   ]
  },
  {
   "cell_type": "code",
   "execution_count": null,
   "id": "838a6327-e623-43b1-ac2d-f0759472e590",
   "metadata": {},
   "outputs": [],
   "source": []
  }
 ],
 "metadata": {
  "kernelspec": {
   "display_name": "Python 3",
   "language": "python",
   "name": "python3"
  },
  "language_info": {
   "codemirror_mode": {
    "name": "ipython",
    "version": 3
   },
   "file_extension": ".py",
   "mimetype": "text/x-python",
   "name": "python",
   "nbconvert_exporter": "python",
   "pygments_lexer": "ipython3",
   "version": "3.8.5"
  }
 },
 "nbformat": 4,
 "nbformat_minor": 5
}
